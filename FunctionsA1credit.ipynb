{
  "nbformat": 4,
  "nbformat_minor": 0,
  "metadata": {
    "colab": {
      "provenance": []
    },
    "kernelspec": {
      "name": "python3",
      "display_name": "Python 3"
    },
    "language_info": {
      "name": "python"
    }
  },
  "cells": [
    {
      "cell_type": "code",
      "execution_count": 4,
      "metadata": {
        "id": "iRInh5lYR6Jl"
      },
      "outputs": [],
      "source": [
        "def Q1():\n",
        "  print('Hello World')\n",
        "\n",
        "def Q2():\n",
        "  print('Eastern University')\n",
        "\n",
        "def Q3(n):\n",
        "  print(n)\n",
        "\n",
        "def Q4(n):\n",
        "  return n*n\n",
        "\n",
        "def Q5(n):\n",
        "  return n*n*n\n",
        "\n",
        "def Q6(n):\n",
        "  print(\"The argument is\",n)\n",
        "\n",
        "def Q7(n,i):\n",
        "  print(n-i)\n",
        "\n",
        "def Q8(a,b,c,d,e):\n",
        "  print(a*b*c*d*e)\n",
        "\n",
        "def Q9(n):\n",
        "  for i in range(n):\n",
        "        print(i)\n",
        "\n",
        "\n",
        "\n"
      ]
    }
  ]
}